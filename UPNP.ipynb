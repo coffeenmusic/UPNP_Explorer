{
 "cells": [
  {
   "cell_type": "markdown",
   "metadata": {},
   "source": [
    "# References\n",
    "[\"Exploring UPnP with Python\" - Electric Monk](https://www.electricmonk.nl/log/2016/07/05/exploring-upnp-with-python/)"
   ]
  },
  {
   "cell_type": "markdown",
   "metadata": {},
   "source": [
    "#           HTTPU M-Search UDP Broadcast  To UPNP Devices  ----->\n",
    "# <-----  HTTPU UDP Replies with Location Header"
   ]
  },
  {
   "cell_type": "code",
   "execution_count": 310,
   "metadata": {},
   "outputs": [
    {
     "name": "stdout",
     "output_type": "stream",
     "text": [
      "('192.168.1.14', 53602)\n",
      "HTTP/1.1 200 OK\n",
      "CACHE-CONTROL: max-age=1800\n",
      "DATE: Sun, 12 Jul 2020 12:49:43 GMT\n",
      "EXT: \n",
      "LOCATION: http://192.168.1.14:7678/nservice/\n",
      "SERVER: Samsung-Linux/4.1, UPnP/1.0, Samsung_UPnP_SDK/1.0\n",
      "ST: upnp:rootdevice\n",
      "USN: uuid:f4ec0a2d-c0aa-4f9d-904a-ecc457202ba9::upnp:rootdevice\n",
      "Content-Length: 0\n",
      "BOOTID.UPNP.ORG: 5\n",
      "\n",
      "\n",
      "('192.168.1.14', 48267)\n",
      "HTTP/1.1 200 OK\n",
      "CACHE-CONTROL: max-age=1800\n",
      "DATE: Sun, 12 Jul 2020 12:49:43 GMT\n",
      "EXT: \n",
      "LOCATION: http://192.168.1.14:9197/dmr\n",
      "SERVER: Samsung-Linux/4.1, UPnP/1.0, Samsung_UPnP_SDK/1.0\n",
      "ST: upnp:rootdevice\n",
      "USN: uuid:036cb031-f5f8-4831-bcd7-c0259ee25740::upnp:rootdevice\n",
      "Content-Length: 0\n",
      "BOOTID.UPNP.ORG: 4\n",
      "\n",
      "\n",
      "('192.168.1.3', 1900)\n",
      "HTTP/1.1 200 OK\n",
      "Cache-Control: max-age=3600\n",
      "ST: upnp:rootdevice\n",
      "USN: uuid:02706106-8001-10a3-80b0-b0a7374b9165::upnp:rootdevice\n",
      "Ext: \n",
      "Server: Roku/9.3.0 UPnP/1.0 Roku/9.3.0\n",
      "LOCATION: http://192.168.1.3:8060/\n",
      "WAKEUP: MAC=b0:a7:37:4b:91:65;Timeout=10\n",
      "\n",
      "\n"
     ]
    }
   ],
   "source": [
    "import socket\n",
    "\n",
    "msg = \\\n",
    "    'M-SEARCH * HTTP/1.1\\r\\n' \\\n",
    "    'HOST:239.255.255.250:1900\\r\\n' \\\n",
    "    'ST:upnp:rootdevice\\r\\n' \\\n",
    "    'MX:2\\r\\n' \\\n",
    "    'MAN:\"ssdp:discover\"\\r\\n' \\\n",
    "    '\\r\\n'\n",
    "\n",
    "msg = str.encode(msg)\n",
    "\n",
    "# Set up UDP socket\n",
    "s = socket.socket(socket.AF_INET, socket.SOCK_DGRAM, socket.IPPROTO_UDP)\n",
    "s.settimeout(2)\n",
    "s.sendto(msg, ('239.255.255.250', 1900) )\n",
    "\n",
    "def get_server_properties(data_str):\n",
    "    property_dict = {}\n",
    "    server = ''\n",
    "    for line in data_str.split('\\r\\n'):\n",
    "        if line.lower().startswith('server:'):\n",
    "            server = line[len('server: '):]\n",
    "        else:\n",
    "            k = line.split(': ')[0].lower()\n",
    "            v = line.split(': ')[-1]\n",
    "\n",
    "            if k != '' and v != '':\n",
    "                property_dict[k] = v\n",
    "                \n",
    "    return server, property_dict\n",
    "\n",
    "servers = {}\n",
    "try:\n",
    "    while True:\n",
    "        data, addr = s.recvfrom(65507)\n",
    "        server, property_dict = get_server_properties(data.decode())\n",
    "        servers[server] = property_dict\n",
    "        print(addr)\n",
    "        print(data.decode())\n",
    "except socket.timeout:\n",
    "    pass"
   ]
  },
  {
   "cell_type": "code",
   "execution_count": 320,
   "metadata": {},
   "outputs": [],
   "source": [
    "\"\"\"\n",
    "    - search: key word in server name\n",
    "    - servers: dictionary with key: server names, value: property_dict\n",
    "    \n",
    "    returns value from servers dictionary where value=property_dict\n",
    "\"\"\"\n",
    "def get_server_properties(search, servers):\n",
    "    assert len(servers) > 0, 'Error: servers dictionary empty.'\n",
    "    server_key = [k for k in servers.keys() if search.lower() in k.lower()]\n",
    "    assert len(server_key) > 0, 'Error: No server with specified key word found.'\n",
    "    assert len(server_key) == 1, 'Server key word not specific enough. More than one server found: ' + ' '.join(server_key)\n",
    "    server_key = server_key[0]\n",
    "    \n",
    "    return servers[server_key]"
   ]
  },
  {
   "cell_type": "code",
   "execution_count": 326,
   "metadata": {},
   "outputs": [
    {
     "name": "stdout",
     "output_type": "stream",
     "text": [
      "http://192.168.1.14:9197/dmr\n"
     ]
    }
   ],
   "source": [
    "location_url = get_server_properties('samsung', servers)['location']\n",
    "print(location_url)"
   ]
  },
  {
   "cell_type": "markdown",
   "metadata": {},
   "source": [
    "# Parse SCPD(Service Control Point Definition) Root XML"
   ]
  },
  {
   "cell_type": "code",
   "execution_count": 433,
   "metadata": {},
   "outputs": [],
   "source": [
    "from lxml import etree\n",
    "from io import StringIO, BytesIO\n",
    "import requests\n",
    "\n",
    "def xml_pretty_print(obj, tab_cnt=0, filter_txt='', filter_tag='', filter_prt_tag=''):        \n",
    "    for v in obj.getchildren():\n",
    "        v_str = v.text.strip()\n",
    "        t_str = v.tag.split('}')[-1] if '}' in v.tag else v.tag\n",
    "        if filter_txt.lower() in v_str.lower() and filter_tag.lower() in t_str.lower() and filter_prt_tag.lower() in v.getparent().tag:\n",
    "            print(''.join(['\\t']*tab_cnt)+t_str+'--> '+v_str)\n",
    "        \n",
    "        tab_cnt += 1\n",
    "        tab_cnt = xml_pretty_print(v, tab_cnt=tab_cnt, filter_txt=filter_txt, filter_tag=filter_tag)\n",
    "    tab_cnt -= 1\n",
    "        \n",
    "    return tab_cnt\n",
    "\n",
    "res = requests.get(location_url)\n",
    "location_root = etree.fromstring(res.content, base_url=location_url)"
   ]
  },
  {
   "cell_type": "code",
   "execution_count": 434,
   "metadata": {},
   "outputs": [
    {
     "name": "stdout",
     "output_type": "stream",
     "text": [
      "specVersion--> \n",
      "\tmajor--> 1\n",
      "\tminor--> 0\n",
      "device--> \n",
      "\tdeviceType--> urn:schemas-upnp-org:device:MediaRenderer:1\n",
      "\tX_compatibleId--> MS_DigitalMediaDeviceClass_DMR_V001\n",
      "\tX_deviceCategory--> Display.TV.LCD Multimedia.DMR\n",
      "\tX_DLNADOC--> DMR-1.50\n",
      "\tfriendlyName--> [TV] Samsung 6 Series (75)\n",
      "\tmanufacturer--> Samsung Electronics\n",
      "\tmanufacturerURL--> http://www.samsung.com/sec\n",
      "\tmodelDescription--> Samsung TV DMR\n",
      "\tmodelName--> UN75NU6950\n",
      "\tmodelNumber--> AllShare1.0\n",
      "\tmodelURL--> http://www.samsung.com/sec\n",
      "\tserialNumber--> 07ZX3CDN101794W\n",
      "\tUDN--> uuid:036cb031-f5f8-4831-bcd7-c0259ee25740\n",
      "\ticonList--> \n",
      "\t\ticon--> \n",
      "\t\t\tmimetype--> image/jpeg\n",
      "\t\t\twidth--> 48\n",
      "\t\t\theight--> 48\n",
      "\t\t\tdepth--> 24\n",
      "\t\t\turl--> /icon_SML.jpg\n",
      "\t\ticon--> \n",
      "\t\t\tmimetype--> image/jpeg\n",
      "\t\t\twidth--> 120\n",
      "\t\t\theight--> 120\n",
      "\t\t\tdepth--> 24\n",
      "\t\t\turl--> /icon_LRG.jpg\n",
      "\t\ticon--> \n",
      "\t\t\tmimetype--> image/png\n",
      "\t\t\twidth--> 48\n",
      "\t\t\theight--> 48\n",
      "\t\t\tdepth--> 24\n",
      "\t\t\turl--> /icon_SML.png\n",
      "\t\ticon--> \n",
      "\t\t\tmimetype--> image/png\n",
      "\t\t\twidth--> 120\n",
      "\t\t\theight--> 120\n",
      "\t\t\tdepth--> 24\n",
      "\t\t\turl--> /icon_LRG.png\n",
      "\tserviceList--> \n",
      "\t\tservice--> \n",
      "\t\t\tserviceType--> urn:schemas-upnp-org:service:RenderingControl:1\n",
      "\t\t\tserviceId--> urn:upnp-org:serviceId:RenderingControl\n",
      "\t\t\tcontrolURL--> /upnp/control/RenderingControl1\n",
      "\t\t\teventSubURL--> /upnp/event/RenderingControl1\n",
      "\t\t\tSCPDURL--> /RenderingControl_1.xml\n",
      "\t\tservice--> \n",
      "\t\t\tserviceType--> urn:schemas-upnp-org:service:ConnectionManager:1\n",
      "\t\t\tserviceId--> urn:upnp-org:serviceId:ConnectionManager\n",
      "\t\t\tcontrolURL--> /upnp/control/ConnectionManager1\n",
      "\t\t\teventSubURL--> /upnp/event/ConnectionManager1\n",
      "\t\t\tSCPDURL--> /ConnectionManager_1.xml\n",
      "\t\tservice--> \n",
      "\t\t\tserviceType--> urn:schemas-upnp-org:service:AVTransport:1\n",
      "\t\t\tserviceId--> urn:upnp-org:serviceId:AVTransport\n",
      "\t\t\tcontrolURL--> /upnp/control/AVTransport1\n",
      "\t\t\teventSubURL--> /upnp/event/AVTransport1\n",
      "\t\t\tSCPDURL--> /AVTransport_1.xml\n",
      "\tProductCap--> Tizen,Y2018,WebURIPlayable,NavigateInPause,ScreenMirroringP2PMAC=d6:9d:c0:86:a9:93,UHD_SCREEN,SerialNumber=07ZX3CDN101794W,vdProductType=TV,OCF=1\n",
      "\tX_hardwareId--> VEN_0105&DEV_VD0001\n"
     ]
    },
    {
     "data": {
      "text/plain": [
       "-1"
      ]
     },
     "execution_count": 434,
     "metadata": {},
     "output_type": "execute_result"
    }
   ],
   "source": [
    "xml_pretty_print(location_root)"
   ]
  },
  {
   "cell_type": "code",
   "execution_count": 435,
   "metadata": {
    "scrolled": true
   },
   "outputs": [
    {
     "name": "stdout",
     "output_type": "stream",
     "text": [
      "http://192.168.1.14:9197\n"
     ]
    }
   ],
   "source": [
    "results = get_scpd_simple(location_root, filter_tag='urlbase')\n",
    "if len(results) >= 1:\n",
    "    soap_req_base_url = results[0].text\n",
    "else:\n",
    "    soap_req_base_url = ':'.join(location_url.split(':')[:-1]) + ':' + location_url.split(':')[-1].split('/')[0]\n",
    "    \n",
    "print(soap_req_base_url)"
   ]
  },
  {
   "cell_type": "code",
   "execution_count": 456,
   "metadata": {},
   "outputs": [
    {
     "data": {
      "text/plain": [
       "[{'ctrl': 'http://192.168.1.14:9197/upnp/control/AVTransport1',\n",
       "  'scpd': 'http://192.168.1.14:9197/AVTransport_1.xml'},\n",
       " {'ctrl': 'http://192.168.1.14:9197/upnp/control/AVTransport1',\n",
       "  'scpd': 'http://192.168.1.14:9197/AVTransport_1.xml'},\n",
       " {'ctrl': 'http://192.168.1.14:9197/upnp/control/AVTransport1',\n",
       "  'scpd': 'http://192.168.1.14:9197/AVTransport_1.xml'}]"
      ]
     },
     "execution_count": 456,
     "metadata": {},
     "output_type": "execute_result"
    }
   ],
   "source": [
    "def get_scdp_urls(location_root, base_url):\n",
    "    ctrl = get_scpd_simple(location_root, filter_prt_tag='service', filter_tag='controlurl')\n",
    "    scpd = get_scpd_simple(location_root, filter_prt_tag='service', filter_tag='scpdurl')\n",
    "    \n",
    "    urls = {}\n",
    "    url_list = []\n",
    "    for c, s in zip(ctrl, scpd):\n",
    "        urls['ctrl'] = base_url + c.text\n",
    "        urls['scpd'] = base_url + s.text\n",
    "        url_list += [urls]\n",
    "        \n",
    "    return url_list\n",
    "\n",
    "urls = get_scdp_urls(location_root, soap_req_base_url)\n",
    "urls"
   ]
  },
  {
   "cell_type": "code",
   "execution_count": 458,
   "metadata": {},
   "outputs": [
    {
     "name": "stdout",
     "output_type": "stream",
     "text": [
      "http://192.168.1.14:9197/upnp/control/AVTransport1\n",
      "http://192.168.1.14:9197/AVTransport_1.xml\n"
     ]
    }
   ],
   "source": [
    "use_idx = 0\n",
    "ctrl_url = urls[use_idx]['ctrl']\n",
    "scpd_url = urls[use_idx]['scpd']\n",
    "print(ctrl_url)\n",
    "print(scpd_url)"
   ]
  },
  {
   "cell_type": "code",
   "execution_count": 392,
   "metadata": {},
   "outputs": [],
   "source": [
    "def get_scpd_simple(obj, results=None, filter_txt='', filter_tag='', filter_prt_tag=''):\n",
    "    if results == None:\n",
    "        results = []\n",
    "        \n",
    "    for v in obj.getchildren():\n",
    "        v_str = v.text.strip()\n",
    "        t_str = v.tag.split('}')[-1] if '}' in v.tag else v.tag\n",
    "        if filter_txt.lower() in v_str.lower() and filter_tag.lower() in t_str.lower() and filter_prt_tag.lower() in v.getparent().tag:\n",
    "            results += [v]\n",
    "        \n",
    "        get_scpd_simple(v, results=results, filter_txt=filter_txt, filter_tag=filter_tag)\n",
    "        \n",
    "    return results\n",
    "\n",
    "def get_xml_obj(obj, results=None, filter_txt='', filter_tag=''):\n",
    "    if results == None:\n",
    "        results = []\n",
    "        \n",
    "    for v in obj.getchildren():\n",
    "        v_str = v.text.strip()\n",
    "        t_str = v.tag\n",
    "        if v_str != '' and filter_txt in v_str.lower() and filter_tag in t_str.lower():\n",
    "            results += [v]\n",
    "        get_xml_obj(v, results=results, filter_txt=filter_txt, filter_tag=filter_tag)\n",
    "    return results"
   ]
  },
  {
   "cell_type": "code",
   "execution_count": 381,
   "metadata": {},
   "outputs": [
    {
     "name": "stdout",
     "output_type": "stream",
     "text": [
      "\t\t\t\t\t\tTest\n"
     ]
    }
   ],
   "source": [
    "print(''.join(['\\t']*6)+'Test')"
   ]
  },
  {
   "cell_type": "code",
   "execution_count": 224,
   "metadata": {},
   "outputs": [],
   "source": [
    "def get_xml_simple_from_url(url, filter_txt='', filter_tag=''):\n",
    "    res = requests.get(url)\n",
    "    root = etree.fromstring(res.content, base_url=url)\n",
    "    \n",
    "    return get_scpd_simple(root, filter_txt=filter_txt, filter_tag=filter_tag)"
   ]
  },
  {
   "cell_type": "code",
   "execution_count": 225,
   "metadata": {},
   "outputs": [
    {
     "data": {
      "text/plain": [
       "[('major', '1'),\n",
       " ('minor', '0'),\n",
       " ('deviceType', 'urn:schemas-upnp-org:device:MediaRenderer:1'),\n",
       " ('X_compatibleId', 'MS_DigitalMediaDeviceClass_DMR_V001'),\n",
       " ('X_deviceCategory', 'Display.TV.LCD Multimedia.DMR'),\n",
       " ('X_DLNADOC', 'DMR-1.50'),\n",
       " ('friendlyName', '[TV] Samsung 6 Series (75)'),\n",
       " ('manufacturer', 'Samsung Electronics'),\n",
       " ('manufacturerURL', 'http://www.samsung.com/sec'),\n",
       " ('modelDescription', 'Samsung TV DMR'),\n",
       " ('modelName', 'UN75NU6950'),\n",
       " ('modelNumber', 'AllShare1.0'),\n",
       " ('modelURL', 'http://www.samsung.com/sec'),\n",
       " ('serialNumber', '07ZX3CDN101794W'),\n",
       " ('UDN', 'uuid:036cb031-f5f8-4831-bcd7-c0259ee25740'),\n",
       " ('mimetype', 'image/jpeg'),\n",
       " ('width', '48'),\n",
       " ('height', '48'),\n",
       " ('depth', '24'),\n",
       " ('url', '/icon_SML.jpg'),\n",
       " ('mimetype', 'image/jpeg'),\n",
       " ('width', '120'),\n",
       " ('height', '120'),\n",
       " ('depth', '24'),\n",
       " ('url', '/icon_LRG.jpg'),\n",
       " ('mimetype', 'image/png'),\n",
       " ('width', '48'),\n",
       " ('height', '48'),\n",
       " ('depth', '24'),\n",
       " ('url', '/icon_SML.png'),\n",
       " ('mimetype', 'image/png'),\n",
       " ('width', '120'),\n",
       " ('height', '120'),\n",
       " ('depth', '24'),\n",
       " ('url', '/icon_LRG.png'),\n",
       " ('serviceType', 'urn:schemas-upnp-org:service:RenderingControl:1'),\n",
       " ('serviceId', 'urn:upnp-org:serviceId:RenderingControl'),\n",
       " ('controlURL', '/upnp/control/RenderingControl1'),\n",
       " ('eventSubURL', '/upnp/event/RenderingControl1'),\n",
       " ('SCPDURL', '/RenderingControl_1.xml'),\n",
       " ('serviceType', 'urn:schemas-upnp-org:service:ConnectionManager:1'),\n",
       " ('serviceId', 'urn:upnp-org:serviceId:ConnectionManager'),\n",
       " ('controlURL', '/upnp/control/ConnectionManager1'),\n",
       " ('eventSubURL', '/upnp/event/ConnectionManager1'),\n",
       " ('SCPDURL', '/ConnectionManager_1.xml'),\n",
       " ('serviceType', 'urn:schemas-upnp-org:service:AVTransport:1'),\n",
       " ('serviceId', 'urn:upnp-org:serviceId:AVTransport'),\n",
       " ('controlURL', '/upnp/control/AVTransport1'),\n",
       " ('eventSubURL', '/upnp/event/AVTransport1'),\n",
       " ('SCPDURL', '/AVTransport_1.xml'),\n",
       " ('ProductCap',\n",
       "  'Tizen,Y2018,WebURIPlayable,NavigateInPause,ScreenMirroringP2PMAC=d6:9d:c0:86:a9:93,UHD_SCREEN,SerialNumber=07ZX3CDN101794W,vdProductType=TV,OCF=1'),\n",
       " ('X_hardwareId', 'VEN_0105&DEV_VD0001')]"
      ]
     },
     "execution_count": 225,
     "metadata": {},
     "output_type": "execute_result"
    }
   ],
   "source": [
    "results = get_xml_simple_from_url(url)\n",
    "results"
   ]
  },
  {
   "cell_type": "code",
   "execution_count": 226,
   "metadata": {},
   "outputs": [
    {
     "data": {
      "text/plain": [
       "[('controlURL', '/upnp/control/RenderingControl1'),\n",
       " ('controlURL', '/upnp/control/ConnectionManager1'),\n",
       " ('controlURL', '/upnp/control/AVTransport1')]"
      ]
     },
     "execution_count": 226,
     "metadata": {},
     "output_type": "execute_result"
    }
   ],
   "source": [
    "get_xml_simple_from_url(url, filter_tag='control')"
   ]
  },
  {
   "cell_type": "code",
   "execution_count": 215,
   "metadata": {},
   "outputs": [
    {
     "data": {
      "text/plain": [
       "[('SCPDURL', '/RenderingControl_1.xml'),\n",
       " ('SCPDURL', '/ConnectionManager_1.xml'),\n",
       " ('SCPDURL', '/AVTransport_1.xml')]"
      ]
     },
     "execution_count": 215,
     "metadata": {},
     "output_type": "execute_result"
    }
   ],
   "source": [
    "xml_files = get_xml_simple_from_url(url, filter_txt='.xml')\n",
    "xml_files"
   ]
  },
  {
   "cell_type": "code",
   "execution_count": 216,
   "metadata": {},
   "outputs": [
    {
     "data": {
      "text/plain": [
       "'http://192.168.1.14:9197/dmr/RenderingControl_1.xml'"
      ]
     },
     "execution_count": 216,
     "metadata": {},
     "output_type": "execute_result"
    }
   ],
   "source": [
    "xml_url = url + xml_files[0][1]\n",
    "xml_url"
   ]
  },
  {
   "cell_type": "code",
   "execution_count": 244,
   "metadata": {
    "scrolled": true
   },
   "outputs": [
    {
     "data": {
      "text/plain": [
       "[('major', '1'),\n",
       " ('minor', '0'),\n",
       " ('name', 'ListPresets'),\n",
       " ('name', 'InstanceID'),\n",
       " ('direction', 'in'),\n",
       " ('relatedStateVariable', 'A_ARG_TYPE_InstanceID'),\n",
       " ('name', 'CurrentPresetNameList'),\n",
       " ('direction', 'out'),\n",
       " ('relatedStateVariable', 'PresetNameList'),\n",
       " ('name', 'SelectPreset'),\n",
       " ('name', 'InstanceID'),\n",
       " ('direction', 'in'),\n",
       " ('relatedStateVariable', 'A_ARG_TYPE_InstanceID'),\n",
       " ('name', 'PresetName'),\n",
       " ('direction', 'in'),\n",
       " ('relatedStateVariable', 'A_ARG_TYPE_PresetName'),\n",
       " ('name', 'GetMute'),\n",
       " ('name', 'InstanceID'),\n",
       " ('direction', 'in'),\n",
       " ('relatedStateVariable', 'A_ARG_TYPE_InstanceID'),\n",
       " ('name', 'Channel'),\n",
       " ('direction', 'in'),\n",
       " ('relatedStateVariable', 'A_ARG_TYPE_Channel'),\n",
       " ('name', 'CurrentMute'),\n",
       " ('direction', 'out'),\n",
       " ('relatedStateVariable', 'Mute'),\n",
       " ('name', 'SetMute'),\n",
       " ('name', 'InstanceID'),\n",
       " ('direction', 'in'),\n",
       " ('relatedStateVariable', 'A_ARG_TYPE_InstanceID'),\n",
       " ('name', 'Channel'),\n",
       " ('direction', 'in'),\n",
       " ('relatedStateVariable', 'A_ARG_TYPE_Channel'),\n",
       " ('name', 'DesiredMute'),\n",
       " ('direction', 'in'),\n",
       " ('relatedStateVariable', 'Mute'),\n",
       " ('name', 'GetVolume'),\n",
       " ('name', 'InstanceID'),\n",
       " ('direction', 'in'),\n",
       " ('relatedStateVariable', 'A_ARG_TYPE_InstanceID'),\n",
       " ('name', 'Channel'),\n",
       " ('direction', 'in'),\n",
       " ('relatedStateVariable', 'A_ARG_TYPE_Channel'),\n",
       " ('name', 'CurrentVolume'),\n",
       " ('direction', 'out'),\n",
       " ('relatedStateVariable', 'Volume'),\n",
       " ('name', 'SetVolume'),\n",
       " ('name', 'InstanceID'),\n",
       " ('direction', 'in'),\n",
       " ('relatedStateVariable', 'A_ARG_TYPE_InstanceID'),\n",
       " ('name', 'Channel'),\n",
       " ('direction', 'in'),\n",
       " ('relatedStateVariable', 'A_ARG_TYPE_Channel'),\n",
       " ('name', 'DesiredVolume'),\n",
       " ('direction', 'in'),\n",
       " ('relatedStateVariable', 'Volume'),\n",
       " ('name', 'X_GetAspectRatio'),\n",
       " ('name', 'InstanceID'),\n",
       " ('direction', 'in'),\n",
       " ('relatedStateVariable', 'A_ARG_TYPE_InstanceID'),\n",
       " ('name', 'AspectRatio'),\n",
       " ('direction', 'out'),\n",
       " ('relatedStateVariable', 'X_AspectRatio'),\n",
       " ('name', 'X_SetAspectRatio'),\n",
       " ('name', 'InstanceID'),\n",
       " ('direction', 'in'),\n",
       " ('relatedStateVariable', 'A_ARG_TYPE_InstanceID'),\n",
       " ('name', 'AspectRatio'),\n",
       " ('direction', 'in'),\n",
       " ('relatedStateVariable', 'X_AspectRatio'),\n",
       " ('name', 'X_Move360View'),\n",
       " ('name', 'InstanceID'),\n",
       " ('direction', 'in'),\n",
       " ('relatedStateVariable', 'A_ARG_TYPE_InstanceID'),\n",
       " ('name', 'LatitudeOffset'),\n",
       " ('direction', 'in'),\n",
       " ('relatedStateVariable', 'X_ARG_TYPE_ArcDegreeOffset'),\n",
       " ('name', 'LongitudeOffset'),\n",
       " ('direction', 'in'),\n",
       " ('relatedStateVariable', 'X_ARG_TYPE_ArcDegreeOffset'),\n",
       " ('name', 'X_Zoom360View'),\n",
       " ('name', 'InstanceID'),\n",
       " ('direction', 'in'),\n",
       " ('relatedStateVariable', 'A_ARG_TYPE_InstanceID'),\n",
       " ('name', 'ScaleFactorOffset'),\n",
       " ('direction', 'in'),\n",
       " ('relatedStateVariable', 'X_ARG_TYPE_ScaleFactorOffset'),\n",
       " ('name', 'X_Origin360View'),\n",
       " ('name', 'InstanceID'),\n",
       " ('direction', 'in'),\n",
       " ('relatedStateVariable', 'A_ARG_TYPE_InstanceID'),\n",
       " ('name', 'X_ControlCaption'),\n",
       " ('name', 'InstanceID'),\n",
       " ('direction', 'in'),\n",
       " ('relatedStateVariable', 'A_ARG_TYPE_InstanceID'),\n",
       " ('name', 'Operation'),\n",
       " ('direction', 'in'),\n",
       " ('relatedStateVariable', 'X_ARG_TYPE_CaptionOperation'),\n",
       " ('name', 'Name'),\n",
       " ('direction', 'in'),\n",
       " ('relatedStateVariable', 'X_ARG_TYPE_CaptionName'),\n",
       " ('name', 'ResourceURI'),\n",
       " ('direction', 'in'),\n",
       " ('relatedStateVariable', 'X_ARG_TYPE_ResourceURI'),\n",
       " ('name', 'CaptionURI'),\n",
       " ('direction', 'in'),\n",
       " ('relatedStateVariable', 'X_ARG_TYPE_CaptionURI'),\n",
       " ('name', 'CaptionType'),\n",
       " ('direction', 'in'),\n",
       " ('relatedStateVariable', 'X_ARG_TYPE_CaptionType'),\n",
       " ('name', 'Language'),\n",
       " ('direction', 'in'),\n",
       " ('relatedStateVariable', 'X_ARG_TYPE_Language'),\n",
       " ('name', 'Encoding'),\n",
       " ('direction', 'in'),\n",
       " ('relatedStateVariable', 'X_ARG_TYPE_Encoding'),\n",
       " ('name', 'X_GetCaptionState'),\n",
       " ('name', 'InstanceID'),\n",
       " ('direction', 'in'),\n",
       " ('relatedStateVariable', 'A_ARG_TYPE_InstanceID'),\n",
       " ('name', 'Captions'),\n",
       " ('direction', 'out'),\n",
       " ('relatedStateVariable', 'X_Captions'),\n",
       " ('name', 'EnabledCaptions'),\n",
       " ('direction', 'out'),\n",
       " ('relatedStateVariable', 'X_EnabledCaptions'),\n",
       " ('name', 'X_GetServiceCapabilities'),\n",
       " ('name', 'InstanceID'),\n",
       " ('direction', 'in'),\n",
       " ('relatedStateVariable', 'A_ARG_TYPE_InstanceID'),\n",
       " ('name', 'ServiceCapabilities'),\n",
       " ('direction', 'out'),\n",
       " ('relatedStateVariable', 'X_ServiceCapabilities'),\n",
       " ('name', 'X_SetZoom'),\n",
       " ('name', 'InstanceID'),\n",
       " ('direction', 'in'),\n",
       " ('relatedStateVariable', 'A_ARG_TYPE_InstanceID'),\n",
       " ('name', 'x'),\n",
       " ('direction', 'in'),\n",
       " ('relatedStateVariable', 'A_ARG_TYPE_Coordinate'),\n",
       " ('name', 'y'),\n",
       " ('direction', 'in'),\n",
       " ('relatedStateVariable', 'A_ARG_TYPE_Coordinate'),\n",
       " ('name', 'w'),\n",
       " ('direction', 'in'),\n",
       " ('relatedStateVariable', 'A_ARG_TYPE_Coordinate'),\n",
       " ('name', 'h'),\n",
       " ('direction', 'in'),\n",
       " ('relatedStateVariable', 'A_ARG_TYPE_Coordinate'),\n",
       " ('name', 'X_GetTVSlideShow'),\n",
       " ('name', 'InstanceID'),\n",
       " ('direction', 'in'),\n",
       " ('relatedStateVariable', 'A_ARG_TYPE_InstanceID'),\n",
       " ('name', 'CurrentShowState'),\n",
       " ('direction', 'out'),\n",
       " ('relatedStateVariable', 'A_ARG_TYPE_SlideShowState'),\n",
       " ('name', 'CurrentThemeId'),\n",
       " ('direction', 'out'),\n",
       " ('relatedStateVariable', 'A_ARG_TYPE_ThemeId'),\n",
       " ('name', 'TotalThemeNumber'),\n",
       " ('direction', 'out'),\n",
       " ('relatedStateVariable', 'A_ARG_TYPE_TotalThemeNumber'),\n",
       " ('name', 'X_SetTVSlideShow'),\n",
       " ('name', 'InstanceID'),\n",
       " ('direction', 'in'),\n",
       " ('relatedStateVariable', 'A_ARG_TYPE_InstanceID'),\n",
       " ('name', 'CurrentShowState'),\n",
       " ('direction', 'in'),\n",
       " ('relatedStateVariable', 'A_ARG_TYPE_SlideShowState'),\n",
       " ('name', 'CurrentShowTheme'),\n",
       " ('direction', 'in'),\n",
       " ('relatedStateVariable', 'A_ARG_TYPE_ThemeId'),\n",
       " ('name', 'PresetNameList'),\n",
       " ('dataType', 'string'),\n",
       " ('defaultValue', 'FactoryDefaults'),\n",
       " ('name', 'LastChange'),\n",
       " ('dataType', 'string'),\n",
       " ('name', 'Mute'),\n",
       " ('dataType', 'boolean'),\n",
       " ('name', 'Volume'),\n",
       " ('dataType', 'ui2'),\n",
       " ('minimum', '0'),\n",
       " ('maximum', '100'),\n",
       " ('step', '1'),\n",
       " ('name', 'A_ARG_TYPE_Channel'),\n",
       " ('dataType', 'string'),\n",
       " ('allowedValue', 'Master'),\n",
       " ('name', 'A_ARG_TYPE_InstanceID'),\n",
       " ('dataType', 'ui4'),\n",
       " ('name', 'A_ARG_TYPE_PresetName'),\n",
       " ('dataType', 'string'),\n",
       " ('allowedValue', 'FactoryDefaults'),\n",
       " ('name', 'X_AspectRatio'),\n",
       " ('dataType', 'string'),\n",
       " ('defaultValue', 'Default'),\n",
       " ('allowedValue', 'Default'),\n",
       " ('allowedValue', 'FitScreen'),\n",
       " ('name', 'X_ARG_TYPE_ArcDegreeOffset'),\n",
       " ('defaultValue', '0.0'),\n",
       " ('dataType', 'float'),\n",
       " ('name', 'X_ARG_TYPE_ScaleFactorOffset'),\n",
       " ('dataType', 'float'),\n",
       " ('defaultValue', '1.0'),\n",
       " ('name', 'X_ARG_TYPE_CaptionOperation'),\n",
       " ('dataType', 'string'),\n",
       " ('allowedValue', 'Enable'),\n",
       " ('allowedValue', 'Disable'),\n",
       " ('name', 'X_ARG_TYPE_CaptionName'),\n",
       " ('dataType', 'string'),\n",
       " ('name', 'X_ARG_TYPE_ResourceURI'),\n",
       " ('dataType', 'string'),\n",
       " ('name', 'X_ARG_TYPE_CaptionURI'),\n",
       " ('dataType', 'string'),\n",
       " ('name', 'X_ARG_TYPE_CaptionType'),\n",
       " ('dataType', 'string'),\n",
       " ('name', 'X_ARG_TYPE_Language'),\n",
       " ('dataType', 'string'),\n",
       " ('name', 'X_ARG_TYPE_Encoding'),\n",
       " ('dataType', 'string'),\n",
       " ('name', 'X_Captions'),\n",
       " ('dataType', 'string'),\n",
       " ('name', 'X_EnabledCaptions'),\n",
       " ('dataType', 'string'),\n",
       " ('name', 'X_ServiceCapabilities'),\n",
       " ('dataType', 'string'),\n",
       " ('name', 'A_ARG_TYPE_Coordinate'),\n",
       " ('dataType', 'ui4'),\n",
       " ('name', 'A_ARG_TYPE_SlideShowState'),\n",
       " ('dataType', 'boolean'),\n",
       " ('name', 'A_ARG_TYPE_ThemeId'),\n",
       " ('dataType', 'ui4'),\n",
       " ('name', 'A_ARG_TYPE_TotalThemeNumber'),\n",
       " ('dataType', 'ui4')]"
      ]
     },
     "execution_count": 244,
     "metadata": {},
     "output_type": "execute_result"
    }
   ],
   "source": [
    "rendering_control = get_xml_simple_from_url(xml_url)\n",
    "rendering_control"
   ]
  },
  {
   "cell_type": "code",
   "execution_count": 269,
   "metadata": {},
   "outputs": [],
   "source": [
    "\"\"\"\n",
    "    parent: parent tag\n",
    "    child: child tag\n",
    "    \n",
    "    returns child's text\n",
    "\"\"\"\n",
    "def searchtags_forparents(parent, child):\n",
    "    res = requests.get(xml_url)\n",
    "    root = etree.fromstring(res.content, base_url=xml_url)\n",
    "    tags = get_xml_obj(root, filter_tag=child)\n",
    "    \n",
    "    results = []\n",
    "    for t in tags:\n",
    "        if parent in t.getparent().tag:\n",
    "            results += [t.text]\n",
    "    \n",
    "    return results"
   ]
  },
  {
   "cell_type": "code",
   "execution_count": 270,
   "metadata": {},
   "outputs": [
    {
     "data": {
      "text/plain": [
       "['ListPresets',\n",
       " 'SelectPreset',\n",
       " 'GetMute',\n",
       " 'SetMute',\n",
       " 'GetVolume',\n",
       " 'SetVolume',\n",
       " 'X_GetAspectRatio',\n",
       " 'X_SetAspectRatio',\n",
       " 'X_Move360View',\n",
       " 'X_Zoom360View',\n",
       " 'X_Origin360View',\n",
       " 'X_ControlCaption',\n",
       " 'X_GetCaptionState',\n",
       " 'X_GetServiceCapabilities',\n",
       " 'X_SetZoom',\n",
       " 'X_GetTVSlideShow',\n",
       " 'X_SetTVSlideShow']"
      ]
     },
     "execution_count": 270,
     "metadata": {},
     "output_type": "execute_result"
    }
   ],
   "source": [
    "searchtags_forparents('action', 'name')"
   ]
  },
  {
   "cell_type": "code",
   "execution_count": 241,
   "metadata": {},
   "outputs": [],
   "source": [
    "for v in actions:\n",
    "    names = get_xml_obj(v, filter_tag='name')\n",
    "    for n in names:\n",
    "        print(n.text)"
   ]
  },
  {
   "cell_type": "markdown",
   "metadata": {},
   "source": [
    "TODO:\n",
    "- Try GetMute and SetMute\n"
   ]
  },
  {
   "cell_type": "code",
   "execution_count": null,
   "metadata": {},
   "outputs": [],
   "source": []
  },
  {
   "cell_type": "code",
   "execution_count": 202,
   "metadata": {},
   "outputs": [
    {
     "data": {
      "text/plain": [
       "[('deviceType', 'urn:schemas-upnp-org:device:MediaRenderer:1'),\n",
       " ('X_deviceCategory', 'Display.TV.LCD Multimedia.DMR')]"
      ]
     },
     "execution_count": 202,
     "metadata": {},
     "output_type": "execute_result"
    }
   ],
   "source": [
    "results = get_xml_simple(root, filter_tag='device')\n",
    "results"
   ]
  },
  {
   "cell_type": "code",
   "execution_count": null,
   "metadata": {},
   "outputs": [],
   "source": []
  }
 ],
 "metadata": {
  "kernelspec": {
   "display_name": "Python 3",
   "language": "python",
   "name": "python3"
  },
  "language_info": {
   "codemirror_mode": {
    "name": "ipython",
    "version": 3
   },
   "file_extension": ".py",
   "mimetype": "text/x-python",
   "name": "python",
   "nbconvert_exporter": "python",
   "pygments_lexer": "ipython3",
   "version": "3.7.3"
  }
 },
 "nbformat": 4,
 "nbformat_minor": 2
}
