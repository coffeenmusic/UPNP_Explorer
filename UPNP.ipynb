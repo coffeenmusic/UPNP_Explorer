{
 "cells": [
  {
   "cell_type": "markdown",
   "metadata": {},
   "source": [
    "# References\n",
    "- [\"Exploring UPnP with Python\" - Electric Monk](https://www.electricmonk.nl/log/2016/07/05/exploring-upnp-with-python/)\n",
    "  - A lot of the SSDP code is a direct copy from this reference\n",
    "- [upnpclient](https://github.com/flyte/upnpclient/blob/develop/upnpclient/soap.py)\n",
    "  - A lot of the SOAP request code is a combination of this reference and the first reference"
   ]
  },
  {
   "cell_type": "markdown",
   "metadata": {},
   "source": [
    "# Motivation\n",
    "I just wanted to play around with UPNP device discovery. I'm sure you can find better code out there, but I do like the way I condensed down the Action and Argument definitions so it is really easy to see what is available."
   ]
  },
  {
   "cell_type": "markdown",
   "metadata": {},
   "source": [
    "# Terms\n",
    "- **UPNP**: Universal Plug & Play\n",
    "- **SSDP**: Simple Service Discovery Protocol\n",
    "- **SCPD**: Service Control Point Definition\n",
    "- **SOAP**: Simple Object Access Protocol"
   ]
  },
  {
   "cell_type": "code",
   "execution_count": 159,
   "metadata": {},
   "outputs": [],
   "source": [
    "from upnp import UPNP_Explorer"
   ]
  },
  {
   "cell_type": "markdown",
   "metadata": {},
   "source": [
    "### STEP 1: Broadcast"
   ]
  },
  {
   "cell_type": "code",
   "execution_count": 165,
   "metadata": {},
   "outputs": [],
   "source": [
    "upnp = UPNP_Explorer() # Broadcast SSDP to UPNP Servers and Get Replies"
   ]
  },
  {
   "cell_type": "code",
   "execution_count": 166,
   "metadata": {},
   "outputs": [
    {
     "name": "stdout",
     "output_type": "stream",
     "text": [
      "Samsung-Linux/4.1, UPnP/1.0, Samsung_UPnP_SDK/1.0_0\n",
      "\thttp/1.1 200 ok: HTTP/1.1 200 OK\n",
      "\tcache-control: max-age=1800\n",
      "\tdate: Wed, 15 Jul 2020 16:02:41 GMT\n",
      "\tlocation: http://192.168.1.14:9197/dmr\n",
      "\tst: upnp:rootdevice\n",
      "\tusn: uuid:036cb031-f5f8-4831-bcd7-c0259ee25740::upnp:rootdevice\n",
      "\tcontent-length: 0\n",
      "\tbootid.upnp.org: 4\n",
      "\n",
      "Samsung-Linux/4.1, UPnP/1.0, Samsung_UPnP_SDK/1.0_1\n",
      "\thttp/1.1 200 ok: HTTP/1.1 200 OK\n",
      "\tcache-control: max-age=1800\n",
      "\tdate: Wed, 15 Jul 2020 16:02:41 GMT\n",
      "\tlocation: http://192.168.1.14:7678/nservice/\n",
      "\tst: upnp:rootdevice\n",
      "\tusn: uuid:f4ec0a2d-c0aa-4f9d-904a-ecc457202ba9::upnp:rootdevice\n",
      "\tcontent-length: 0\n",
      "\tbootid.upnp.org: 5\n",
      "\n",
      "Roku/9.3.0 UPnP/1.0 Roku/9.3.0_0\n",
      "\thttp/1.1 200 ok: HTTP/1.1 200 OK\n",
      "\tcache-control: max-age=3600\n",
      "\tst: upnp:rootdevice\n",
      "\tusn: uuid:02706106-8001-10a3-80b0-b0a7374b9165::upnp:rootdevice\n",
      "\tlocation: http://192.168.1.3:8060/\n",
      "\twakeup: MAC=b0:a7:37:4b:91:65;Timeout=10\n",
      "\n"
     ]
    }
   ],
   "source": [
    "upnp.SSDP.print_servers()"
   ]
  },
  {
   "cell_type": "markdown",
   "metadata": {},
   "source": [
    "### STEP 2: Define Server\n",
    "- Gets Root XML using Location URL"
   ]
  },
  {
   "cell_type": "code",
   "execution_count": 167,
   "metadata": {},
   "outputs": [
    {
     "name": "stdout",
     "output_type": "stream",
     "text": [
      "Multiple servers found for server name (samsung). Please use server_idx input argument to specify which server to use or be more specific when specifying server_name. 0 index currently used.\n",
      "Servers found:\r\n",
      " \tSamsung-Linux/4.1, UPnP/1.0, Samsung_UPnP_SDK/1.0_0\r\n",
      "\tSamsung-Linux/4.1, UPnP/1.0, Samsung_UPnP_SDK/1.0_1\r\n",
      "\n",
      "Location URL:  http://192.168.1.14:9197/dmr\n"
     ]
    }
   ],
   "source": [
    "SEARCH_SERVER_NAME = 'samsung'\n",
    "url_list = upnp.define_server(SEARCH_SERVER_NAME)\n",
    "\n",
    "print('Location URL: ', upnp.SCPD.location_url) # Contains Device Definition and Service List"
   ]
  },
  {
   "cell_type": "code",
   "execution_count": 168,
   "metadata": {},
   "outputs": [
    {
     "name": "stdout",
     "output_type": "stream",
     "text": [
      "specVersion--> \n",
      "\tmajor--> 1\n",
      "\tminor--> 0\n",
      "device--> \n",
      "\tdeviceType--> urn:schemas-upnp-org:device:MediaRenderer:1\n",
      "\tX_compatibleId--> MS_DigitalMediaDeviceClass_DMR_V001\n",
      "\tX_deviceCategory--> Display.TV.LCD Multimedia.DMR\n",
      "\tX_DLNADOC--> DMR-1.50\n",
      "\tfriendlyName--> [TV] Samsung 6 Series (75)\n",
      "\tmanufacturer--> Samsung Electronics\n",
      "\tmanufacturerURL--> http://www.samsung.com/sec\n",
      "\tmodelDescription--> Samsung TV DMR\n",
      "\tmodelName--> UN75NU6950\n",
      "\tmodelNumber--> AllShare1.0\n",
      "\tmodelURL--> http://www.samsung.com/sec\n",
      "\tserialNumber--> 07ZX3CDN101794W\n",
      "\tUDN--> uuid:036cb031-f5f8-4831-bcd7-c0259ee25740\n",
      "\ticonList--> \n",
      "\t\ticon--> \n",
      "\t\t\tmimetype--> image/jpeg\n",
      "\t\t\twidth--> 48\n",
      "\t\t\theight--> 48\n",
      "\t\t\tdepth--> 24\n",
      "\t\t\turl--> /icon_SML.jpg\n",
      "\t\ticon--> \n",
      "\t\t\tmimetype--> image/jpeg\n",
      "\t\t\twidth--> 120\n",
      "\t\t\theight--> 120\n",
      "\t\t\tdepth--> 24\n",
      "\t\t\turl--> /icon_LRG.jpg\n",
      "\t\ticon--> \n",
      "\t\t\tmimetype--> image/png\n",
      "\t\t\twidth--> 48\n",
      "\t\t\theight--> 48\n",
      "\t\t\tdepth--> 24\n",
      "\t\t\turl--> /icon_SML.png\n",
      "\t\ticon--> \n",
      "\t\t\tmimetype--> image/png\n",
      "\t\t\twidth--> 120\n",
      "\t\t\theight--> 120\n",
      "\t\t\tdepth--> 24\n",
      "\t\t\turl--> /icon_LRG.png\n",
      "\tserviceList--> \n",
      "\t\tservice--> \n",
      "\t\t\tserviceType--> urn:schemas-upnp-org:service:RenderingControl:1\n",
      "\t\t\tserviceId--> urn:upnp-org:serviceId:RenderingControl\n",
      "\t\t\tcontrolURL--> /upnp/control/RenderingControl1\n",
      "\t\t\teventSubURL--> /upnp/event/RenderingControl1\n",
      "\t\t\tSCPDURL--> /RenderingControl_1.xml\n",
      "\t\tservice--> \n",
      "\t\t\tserviceType--> urn:schemas-upnp-org:service:ConnectionManager:1\n",
      "\t\t\tserviceId--> urn:upnp-org:serviceId:ConnectionManager\n",
      "\t\t\tcontrolURL--> /upnp/control/ConnectionManager1\n",
      "\t\t\teventSubURL--> /upnp/event/ConnectionManager1\n",
      "\t\t\tSCPDURL--> /ConnectionManager_1.xml\n",
      "\t\tservice--> \n",
      "\t\t\tserviceType--> urn:schemas-upnp-org:service:AVTransport:1\n",
      "\t\t\tserviceId--> urn:upnp-org:serviceId:AVTransport\n",
      "\t\t\tcontrolURL--> /upnp/control/AVTransport1\n",
      "\t\t\teventSubURL--> /upnp/event/AVTransport1\n",
      "\t\t\tSCPDURL--> /AVTransport_1.xml\n",
      "\tProductCap--> Tizen,Y2018,WebURIPlayable,NavigateInPause,ScreenMirroringP2PMAC=d6:9d:c0:86:a9:93,UHD_SCREEN,SerialNumber=07ZX3CDN101794W,vdProductType=TV,OCF=1\n",
      "\tX_hardwareId--> VEN_0105&DEV_VD0001\n"
     ]
    }
   ],
   "source": [
    "# Pretty Print SCPD Root XML\n",
    "upnp.print_element_pretty(upnp.SCPD.root)"
   ]
  },
  {
   "cell_type": "markdown",
   "metadata": {},
   "source": [
    "### STEP 3a: Choose URL Set\n",
    "- Choose Control URL (SOAP Commands sent to this URL)\n",
    "- Choose SCPD URL (Service URL with Argument & Action Definition XML)\n",
    "- Choose Type (Define for SOAP Requests)"
   ]
  },
  {
   "cell_type": "code",
   "execution_count": 169,
   "metadata": {},
   "outputs": [
    {
     "name": "stdout",
     "output_type": "stream",
     "text": [
      "---- URL Set Index 0 ----\n",
      "ctrl: http://192.168.1.14:9197/upnp/control/RenderingControl1\n",
      "scpd: http://192.168.1.14:9197/RenderingControl_1.xml\n",
      "type: urn:schemas-upnp-org:service:RenderingControl:1\n",
      "\n",
      "---- URL Set Index 1 ----\n",
      "ctrl: http://192.168.1.14:9197/upnp/control/ConnectionManager1\n",
      "scpd: http://192.168.1.14:9197/ConnectionManager_1.xml\n",
      "type: urn:schemas-upnp-org:service:ConnectionManager:1\n",
      "\n",
      "---- URL Set Index 2 ----\n",
      "ctrl: http://192.168.1.14:9197/upnp/control/AVTransport1\n",
      "scpd: http://192.168.1.14:9197/AVTransport_1.xml\n",
      "type: urn:schemas-upnp-org:service:AVTransport:1\n",
      "\n"
     ]
    }
   ],
   "source": [
    "for i, urls in enumerate(upnp.SCPD.url_list):\n",
    "    print('---- URL Set Index %s ----'%(i))\n",
    "    for k, v in urls.items():\n",
    "        print('%s: %s'%(k,v))\n",
    "    print()"
   ]
  },
  {
   "cell_type": "code",
   "execution_count": 170,
   "metadata": {},
   "outputs": [
    {
     "name": "stdout",
     "output_type": "stream",
     "text": [
      "http://192.168.1.14:9197/upnp/control/RenderingControl1\n",
      "http://192.168.1.14:9197/RenderingControl_1.xml\n",
      "urn:schemas-upnp-org:service:RenderingControl:1\n"
     ]
    }
   ],
   "source": [
    "# Choose Index from above list\n",
    "USE_IDX = 0\n",
    "\n",
    "CTRL_URL = upnp.SCPD.url_list[USE_IDX]['ctrl']\n",
    "SCPD_URL = upnp.SCPD.url_list[USE_IDX]['scpd']\n",
    "SERVICE_TYPE = upnp.SCPD.url_list[USE_IDX]['type']\n",
    "print(CTRL_URL)\n",
    "print(SCPD_URL)\n",
    "print(SERVICE_TYPE)"
   ]
  },
  {
   "cell_type": "markdown",
   "metadata": {},
   "source": [
    "### STEP 3b: Get Service XML\n",
    "- Gets the Service XML using the SCPD_URL\n",
    "- Service XML contains Action & Argument Definitions"
   ]
  },
  {
   "cell_type": "code",
   "execution_count": 171,
   "metadata": {
    "scrolled": true
   },
   "outputs": [
    {
     "name": "stdout",
     "output_type": "stream",
     "text": [
      "specVersion--> \n",
      "\tmajor--> 1\n",
      "\tminor--> 0\n",
      "actionList--> \n",
      "\taction--> \n",
      "\t\tname--> ListPresets\n",
      "\t\targumentList--> \n",
      "\t\t\targument--> \n",
      "\t\t\t\tname--> InstanceID\n",
      "\t\t\t\tdirection--> in\n",
      "\t\t\t\trelatedStateVariable--> A_ARG_TYPE_InstanceID\n",
      "\t\t\targument--> \n",
      "\t\t\t\tname--> CurrentPresetNameList\n",
      "\t\t\t\tdirection--> out\n",
      "\t\t\t\trelatedStateVariable--> PresetNameList\n",
      "\taction--> \n",
      "\t\tname--> SelectPreset\n",
      "\t\targumentList--> \n",
      "\t\t\targument--> \n",
      "\t\t\t\tname--> InstanceID\n",
      "\t\t\t\tdirection--> in\n",
      "\t\t\t\trelatedStateVariable--> A_ARG_TYPE_InstanceID\n",
      "\t\t\targument--> \n",
      "\t\t\t\tname--> PresetName\n",
      "\t\t\t\tdirection--> in\n",
      "\t\t\t\trelatedStateVariable--> A_ARG_TYPE_PresetName\n",
      "\taction--> \n",
      "\t\tname--> GetMute\n",
      "\t\targumentList--> \n",
      "\t\t\targument--> \n",
      "\t\t\t\tname--> InstanceID\n",
      "\t\t\t\tdirection--> in\n",
      "\t\t\t\trelatedStateVariable--> A_ARG_TYPE_InstanceID\n",
      "\t\t\targument--> \n",
      "\t\t\t\tname--> Channel\n",
      "\t\t\t\tdirection--> in\n",
      "\t\t\t\trelatedStateVariable--> A_ARG_TYPE_Channel\n",
      "\t\t\targument--> \n",
      "\t\t\t\tname--> CurrentMute\n",
      "\t\t\t\tdirection--> out\n",
      "\t\t\t\trelatedStateVariable--> Mute\n",
      "\taction--> \n",
      "\t\tname--> SetMute\n",
      "\t\targumentList--> \n",
      "\t\t\targument--> \n",
      "\t\t\t\tname--> InstanceID\n",
      "\t\t\t\tdirection--> in\n",
      "\t\t\t\trelatedStateVariable--> A_ARG_TYPE_InstanceID\n",
      "\t\t\targument--> \n",
      "\t\t\t\tname--> Channel\n",
      "\t\t\t\tdirection--> in\n",
      "\t\t\t\trelatedStateVariable--> A_ARG_TYPE_Channel\n",
      "\t\t\targument--> \n",
      "\t\t\t\tname--> DesiredMute\n",
      "\t\t\t\tdirection--> in\n",
      "\t\t\t\trelatedStateVariable--> Mute\n",
      "\taction--> \n",
      "\t\tname--> GetVolume\n",
      "\t\targumentList--> \n",
      "\t\t\targument--> \n",
      "\t\t\t\tname--> InstanceID\n",
      "\t\t\t\tdirection--> in\n",
      "\t\t\t\trelatedStateVariable--> A_ARG_TYPE_InstanceID\n",
      "\t\t\targument--> \n",
      "\t\t\t\tname--> Channel\n",
      "\t\t\t\tdirection--> in\n",
      "\t\t\t\trelatedStateVariable--> A_ARG_TYPE_Channel\n",
      "\t\t\targument--> \n",
      "\t\t\t\tname--> CurrentVolume\n",
      "\t\t\t\tdirection--> out\n",
      "\t\t\t\trelatedStateVariable--> Volume\n",
      "\taction--> \n",
      "\t\tname--> SetVolume\n",
      "\t\targumentList--> \n",
      "\t\t\targument--> \n",
      "\t\t\t\tname--> InstanceID\n",
      "\t\t\t\tdirection--> in\n",
      "\t\t\t\trelatedStateVariable--> A_ARG_TYPE_InstanceID\n",
      "\t\t\targument--> \n",
      "\t\t\t\tname--> Channel\n",
      "\t\t\t\tdirection--> in\n",
      "\t\t\t\trelatedStateVariable--> A_ARG_TYPE_Channel\n",
      "\t\t\targument--> \n",
      "\t\t\t\tname--> DesiredVolume\n",
      "\t\t\t\tdirection--> in\n",
      "\t\t\t\trelatedStateVariable--> Volume\n",
      "\taction--> \n",
      "\t\tname--> X_GetAspectRatio\n",
      "\t\targumentList--> \n",
      "\t\t\targument--> \n",
      "\t\t\t\tname--> InstanceID\n",
      "\t\t\t\tdirection--> in\n",
      "\t\t\t\trelatedStateVariable--> A_ARG_TYPE_InstanceID\n",
      "\t\t\targument--> \n",
      "\t\t\t\tname--> AspectRatio\n",
      "\t\t\t\tdirection--> out\n",
      "\t\t\t\trelatedStateVariable--> X_AspectRatio\n",
      "\taction--> \n",
      "\t\tname--> X_SetAspectRatio\n",
      "\t\targumentList--> \n",
      "\t\t\targument--> \n",
      "\t\t\t\tname--> InstanceID\n",
      "\t\t\t\tdirection--> in\n",
      "\t\t\t\trelatedStateVariable--> A_ARG_TYPE_InstanceID\n",
      "\t\t\targument--> \n",
      "\t\t\t\tname--> AspectRatio\n",
      "\t\t\t\tdirection--> in\n",
      "\t\t\t\trelatedStateVariable--> X_AspectRatio\n",
      "\taction--> \n",
      "\t\tname--> X_Move360View\n",
      "\t\targumentList--> \n",
      "\t\t\targument--> \n",
      "\t\t\t\tname--> InstanceID\n",
      "\t\t\t\tdirection--> in\n",
      "\t\t\t\trelatedStateVariable--> A_ARG_TYPE_InstanceID\n",
      "\t\t\targument--> \n",
      "\t\t\t\tname--> LatitudeOffset\n",
      "\t\t\t\tdirection--> in\n",
      "\t\t\t\trelatedStateVariable--> X_ARG_TYPE_ArcDegreeOffset\n",
      "\t\t\targument--> \n",
      "\t\t\t\tname--> LongitudeOffset\n",
      "\t\t\t\tdirection--> in\n",
      "\t\t\t\trelatedStateVariable--> X_ARG_TYPE_ArcDegreeOffset\n",
      "\taction--> \n",
      "\t\tname--> X_Zoom360View\n",
      "\t\targumentList--> \n",
      "\t\t\targument--> \n",
      "\t\t\t\tname--> InstanceID\n",
      "\t\t\t\tdirection--> in\n",
      "\t\t\t\trelatedStateVariable--> A_ARG_TYPE_InstanceID\n",
      "\t\t\targument--> \n",
      "\t\t\t\tname--> ScaleFactorOffset\n",
      "\t\t\t\tdirection--> in\n",
      "\t\t\t\trelatedStateVariable--> X_ARG_TYPE_ScaleFactorOffset\n",
      "\taction--> \n",
      "\t\tname--> X_Origin360View\n",
      "\t\targumentList--> \n",
      "\t\t\targument--> \n",
      "\t\t\t\tname--> InstanceID\n",
      "\t\t\t\tdirection--> in\n",
      "\t\t\t\trelatedStateVariable--> A_ARG_TYPE_InstanceID\n",
      "\taction--> \n",
      "\t\tname--> X_ControlCaption\n",
      "\t\targumentList--> \n",
      "\t\t\targument--> \n",
      "\t\t\t\tname--> InstanceID\n",
      "\t\t\t\tdirection--> in\n",
      "\t\t\t\trelatedStateVariable--> A_ARG_TYPE_InstanceID\n",
      "\t\t\targument--> \n",
      "\t\t\t\tname--> Operation\n",
      "\t\t\t\tdirection--> in\n",
      "\t\t\t\trelatedStateVariable--> X_ARG_TYPE_CaptionOperation\n",
      "\t\t\targument--> \n",
      "\t\t\t\tname--> Name\n",
      "\t\t\t\tdirection--> in\n",
      "\t\t\t\trelatedStateVariable--> X_ARG_TYPE_CaptionName\n",
      "\t\t\targument--> \n",
      "\t\t\t\tname--> ResourceURI\n",
      "\t\t\t\tdirection--> in\n",
      "\t\t\t\trelatedStateVariable--> X_ARG_TYPE_ResourceURI\n",
      "\t\t\targument--> \n",
      "\t\t\t\tname--> CaptionURI\n",
      "\t\t\t\tdirection--> in\n",
      "\t\t\t\trelatedStateVariable--> X_ARG_TYPE_CaptionURI\n",
      "\t\t\targument--> \n",
      "\t\t\t\tname--> CaptionType\n",
      "\t\t\t\tdirection--> in\n",
      "\t\t\t\trelatedStateVariable--> X_ARG_TYPE_CaptionType\n",
      "\t\t\targument--> \n",
      "\t\t\t\tname--> Language\n",
      "\t\t\t\tdirection--> in\n",
      "\t\t\t\trelatedStateVariable--> X_ARG_TYPE_Language\n",
      "\t\t\targument--> \n",
      "\t\t\t\tname--> Encoding\n",
      "\t\t\t\tdirection--> in\n",
      "\t\t\t\trelatedStateVariable--> X_ARG_TYPE_Encoding\n",
      "\taction--> \n",
      "\t\tname--> X_GetCaptionState\n",
      "\t\targumentList--> \n",
      "\t\t\targument--> \n",
      "\t\t\t\tname--> InstanceID\n",
      "\t\t\t\tdirection--> in\n",
      "\t\t\t\trelatedStateVariable--> A_ARG_TYPE_InstanceID\n",
      "\t\t\targument--> \n",
      "\t\t\t\tname--> Captions\n",
      "\t\t\t\tdirection--> out\n",
      "\t\t\t\trelatedStateVariable--> X_Captions\n",
      "\t\t\targument--> \n",
      "\t\t\t\tname--> EnabledCaptions\n",
      "\t\t\t\tdirection--> out\n",
      "\t\t\t\trelatedStateVariable--> X_EnabledCaptions\n",
      "\taction--> \n",
      "\t\tname--> X_GetServiceCapabilities\n",
      "\t\targumentList--> \n",
      "\t\t\targument--> \n",
      "\t\t\t\tname--> InstanceID\n",
      "\t\t\t\tdirection--> in\n",
      "\t\t\t\trelatedStateVariable--> A_ARG_TYPE_InstanceID\n",
      "\t\t\targument--> \n",
      "\t\t\t\tname--> ServiceCapabilities\n",
      "\t\t\t\tdirection--> out\n",
      "\t\t\t\trelatedStateVariable--> X_ServiceCapabilities\n",
      "\taction--> \n",
      "\t\tname--> X_SetZoom\n",
      "\t\targumentList--> \n",
      "\t\t\targument--> \n",
      "\t\t\t\tname--> InstanceID\n",
      "\t\t\t\tdirection--> in\n",
      "\t\t\t\trelatedStateVariable--> A_ARG_TYPE_InstanceID\n",
      "\t\t\targument--> \n",
      "\t\t\t\tname--> x\n",
      "\t\t\t\tdirection--> in\n",
      "\t\t\t\trelatedStateVariable--> A_ARG_TYPE_Coordinate\n",
      "\t\t\targument--> \n",
      "\t\t\t\tname--> y\n",
      "\t\t\t\tdirection--> in\n",
      "\t\t\t\trelatedStateVariable--> A_ARG_TYPE_Coordinate\n",
      "\t\t\targument--> \n",
      "\t\t\t\tname--> w\n",
      "\t\t\t\tdirection--> in\n",
      "\t\t\t\trelatedStateVariable--> A_ARG_TYPE_Coordinate\n",
      "\t\t\targument--> \n",
      "\t\t\t\tname--> h\n",
      "\t\t\t\tdirection--> in\n",
      "\t\t\t\trelatedStateVariable--> A_ARG_TYPE_Coordinate\n",
      "\taction--> \n",
      "\t\tname--> X_GetTVSlideShow\n",
      "\t\targumentList--> \n",
      "\t\t\targument--> \n",
      "\t\t\t\tname--> InstanceID\n",
      "\t\t\t\tdirection--> in\n",
      "\t\t\t\trelatedStateVariable--> A_ARG_TYPE_InstanceID\n",
      "\t\t\targument--> \n",
      "\t\t\t\tname--> CurrentShowState\n",
      "\t\t\t\tdirection--> out\n",
      "\t\t\t\trelatedStateVariable--> A_ARG_TYPE_SlideShowState\n",
      "\t\t\targument--> \n",
      "\t\t\t\tname--> CurrentThemeId\n",
      "\t\t\t\tdirection--> out\n",
      "\t\t\t\trelatedStateVariable--> A_ARG_TYPE_ThemeId\n",
      "\t\t\targument--> \n",
      "\t\t\t\tname--> TotalThemeNumber\n",
      "\t\t\t\tdirection--> out\n",
      "\t\t\t\trelatedStateVariable--> A_ARG_TYPE_TotalThemeNumber\n",
      "\taction--> \n",
      "\t\tname--> X_SetTVSlideShow\n",
      "\t\targumentList--> \n",
      "\t\t\targument--> \n",
      "\t\t\t\tname--> InstanceID\n",
      "\t\t\t\tdirection--> in\n",
      "\t\t\t\trelatedStateVariable--> A_ARG_TYPE_InstanceID\n",
      "\t\t\targument--> \n",
      "\t\t\t\tname--> CurrentShowState\n",
      "\t\t\t\tdirection--> in\n",
      "\t\t\t\trelatedStateVariable--> A_ARG_TYPE_SlideShowState\n",
      "\t\t\targument--> \n",
      "\t\t\t\tname--> CurrentShowTheme\n",
      "\t\t\t\tdirection--> in\n",
      "\t\t\t\trelatedStateVariable--> A_ARG_TYPE_ThemeId\n",
      "serviceStateTable--> \n",
      "\tstateVariable--> \n",
      "\t\tname--> PresetNameList\n",
      "\t\tdataType--> string\n",
      "\t\tdefaultValue--> FactoryDefaults\n",
      "\tstateVariable--> \n",
      "\t\tname--> LastChange\n",
      "\t\tdataType--> string\n",
      "\tstateVariable--> \n",
      "\t\tname--> Mute\n",
      "\t\tdataType--> boolean\n",
      "\tstateVariable--> \n",
      "\t\tname--> Volume\n",
      "\t\tdataType--> ui2\n",
      "\t\tallowedValueRange--> \n",
      "\t\t\tminimum--> 0\n",
      "\t\t\tmaximum--> 100\n",
      "\t\t\tstep--> 1\n",
      "\tstateVariable--> \n",
      "\t\tname--> A_ARG_TYPE_Channel\n",
      "\t\tdataType--> string\n",
      "\t\tallowedValueList--> \n",
      "\t\t\tallowedValue--> Master\n",
      "\tstateVariable--> \n",
      "\t\tname--> A_ARG_TYPE_InstanceID\n",
      "\t\tdataType--> ui4\n",
      "\tstateVariable--> \n",
      "\t\tname--> A_ARG_TYPE_PresetName\n",
      "\t\tdataType--> string\n",
      "\t\tallowedValueList--> \n",
      "\t\t\tallowedValue--> FactoryDefaults\n",
      "\tstateVariable--> \n",
      "\t\tname--> X_AspectRatio\n",
      "\t\tdataType--> string\n",
      "\t\tdefaultValue--> Default\n",
      "\t\tallowedValueList--> \n",
      "\t\t\tallowedValue--> Default\n",
      "\t\t\tallowedValue--> FitScreen\n",
      "\tstateVariable--> \n",
      "\t\tname--> X_ARG_TYPE_ArcDegreeOffset\n",
      "\t\tdefaultValue--> 0.0\n",
      "\t\tdataType--> float\n",
      "\tstateVariable--> \n",
      "\t\tname--> X_ARG_TYPE_ScaleFactorOffset\n",
      "\t\tdataType--> float\n",
      "\t\tdefaultValue--> 1.0\n",
      "\tstateVariable--> \n",
      "\t\tname--> X_ARG_TYPE_CaptionOperation\n",
      "\t\tdataType--> string\n",
      "\t\tallowedValueList--> \n",
      "\t\t\tallowedValue--> Enable\n",
      "\t\t\tallowedValue--> Disable\n",
      "\tstateVariable--> \n",
      "\t\tname--> X_ARG_TYPE_CaptionName\n",
      "\t\tdataType--> string\n",
      "\tstateVariable--> \n",
      "\t\tname--> X_ARG_TYPE_ResourceURI\n",
      "\t\tdataType--> string\n",
      "\tstateVariable--> \n",
      "\t\tname--> X_ARG_TYPE_CaptionURI\n",
      "\t\tdataType--> string\n",
      "\tstateVariable--> \n",
      "\t\tname--> X_ARG_TYPE_CaptionType\n",
      "\t\tdataType--> string\n",
      "\tstateVariable--> \n",
      "\t\tname--> X_ARG_TYPE_Language\n",
      "\t\tdataType--> string\n",
      "\tstateVariable--> \n",
      "\t\tname--> X_ARG_TYPE_Encoding\n",
      "\t\tdataType--> string\n",
      "\tstateVariable--> \n",
      "\t\tname--> X_Captions\n",
      "\t\tdataType--> string\n",
      "\tstateVariable--> \n",
      "\t\tname--> X_EnabledCaptions\n",
      "\t\tdataType--> string\n",
      "\tstateVariable--> \n",
      "\t\tname--> X_ServiceCapabilities\n",
      "\t\tdataType--> string\n",
      "\tstateVariable--> \n",
      "\t\tname--> A_ARG_TYPE_Coordinate\n",
      "\t\tdataType--> ui4\n",
      "\tstateVariable--> \n",
      "\t\tname--> A_ARG_TYPE_SlideShowState\n",
      "\t\tdataType--> boolean\n",
      "\tstateVariable--> \n",
      "\t\tname--> A_ARG_TYPE_ThemeId\n",
      "\t\tdataType--> ui4\n",
      "\tstateVariable--> \n",
      "\t\tname--> A_ARG_TYPE_TotalThemeNumber\n",
      "\t\tdataType--> ui4\n"
     ]
    }
   ],
   "source": [
    "upnp.SCPD.get_service_xml(SCPD_URL)\n",
    "\n",
    "# Print Service XML\n",
    "upnp.print_element_pretty(upnp.SCPD.service_root)"
   ]
  },
  {
   "cell_type": "markdown",
   "metadata": {},
   "source": [
    "# SOAP Preparation"
   ]
  },
  {
   "cell_type": "markdown",
   "metadata": {},
   "source": [
    "### Step 4a: Define Action used and Action's Input Arguments"
   ]
  },
  {
   "cell_type": "code",
   "execution_count": 176,
   "metadata": {},
   "outputs": [
    {
     "name": "stdout",
     "output_type": "stream",
     "text": [
      "ListPresets(InstanceID)\r\n",
      "\tReturns: (CurrentPresetNameList)\n",
      "SelectPreset(InstanceID, PresetName)\n",
      "GetMute(InstanceID, Channel)\r\n",
      "\tReturns: (CurrentMute)\n",
      "SetMute(InstanceID, Channel, DesiredMute)\n",
      "GetVolume(InstanceID, Channel)\r\n",
      "\tReturns: (CurrentVolume)\n",
      "SetVolume(InstanceID, Channel, DesiredVolume)\n",
      "X_GetAspectRatio(InstanceID)\r\n",
      "\tReturns: (AspectRatio)\n",
      "X_SetAspectRatio(InstanceID, AspectRatio)\n",
      "X_Move360View(InstanceID, LatitudeOffset, LongitudeOffset)\n",
      "X_Zoom360View(InstanceID, ScaleFactorOffset)\n",
      "X_Origin360View(InstanceID)\n",
      "X_ControlCaption(InstanceID, Operation, Name, ResourceURI, CaptionURI, CaptionType, Language, Encoding)\n",
      "X_GetCaptionState(InstanceID)\r\n",
      "\tReturns: (Captions, EnabledCaptions)\n",
      "X_GetServiceCapabilities(InstanceID)\r\n",
      "\tReturns: (ServiceCapabilities)\n",
      "X_SetZoom(InstanceID, x, y, w, h)\n",
      "X_GetTVSlideShow(InstanceID)\r\n",
      "\tReturns: (CurrentShowState, CurrentThemeId, TotalThemeNumber)\n",
      "X_SetTVSlideShow(InstanceID, CurrentShowState, CurrentShowTheme)\n"
     ]
    }
   ],
   "source": [
    "upnp.SCPD.pretty_print_actions()"
   ]
  },
  {
   "cell_type": "code",
   "execution_count": 177,
   "metadata": {},
   "outputs": [],
   "source": [
    "ACTION_NAME = 'SetMute'"
   ]
  },
  {
   "cell_type": "code",
   "execution_count": 178,
   "metadata": {},
   "outputs": [
    {
     "name": "stdout",
     "output_type": "stream",
     "text": [
      "_______input arguments________\n",
      "InstanceID\n",
      "\tdataType: ui4\n",
      "Channel\n",
      "\tdataType: string\n",
      "\tallowedValueList: Master\n",
      "DesiredMute\n",
      "\tdataType: boolean\n",
      "\n",
      "_______output arguments________\n",
      "\n"
     ]
    }
   ],
   "source": [
    "upnp.SCPD.print_action_arg_desc(ACTION_NAME)"
   ]
  },
  {
   "cell_type": "code",
   "execution_count": 179,
   "metadata": {},
   "outputs": [
    {
     "name": "stdout",
     "output_type": "stream",
     "text": [
      "{'InstanceID': 0, 'Channel': 'Master', 'DesiredMute': None}\n"
     ]
    }
   ],
   "source": [
    "argument_inputs = upnp.SCPD.define_action(ACTION_NAME)\n",
    "\n",
    "print(upnp.SCPD.input_args)"
   ]
  },
  {
   "cell_type": "markdown",
   "metadata": {},
   "source": [
    "### Step 4b: Change any input action values if necessary or desired"
   ]
  },
  {
   "cell_type": "code",
   "execution_count": 184,
   "metadata": {},
   "outputs": [
    {
     "name": "stdout",
     "output_type": "stream",
     "text": [
      "{'InstanceID': 0, 'Channel': 'Master', 'DesiredMute': 0}\n"
     ]
    }
   ],
   "source": [
    "# Modify any arguments you would like to manually change\n",
    "argument_inputs['DesiredMute'] = 0\n",
    "\n",
    "print(upnp.SCPD.input_args)"
   ]
  },
  {
   "cell_type": "markdown",
   "metadata": {},
   "source": [
    "### Step 5: SOAP Call"
   ]
  },
  {
   "cell_type": "code",
   "execution_count": 185,
   "metadata": {},
   "outputs": [],
   "source": [
    "upnp.request_action(CTRL_URL, SERVICE_TYPE) # ACTION_NAME & INPUT_ARGS defined from SCPD.define_action\n",
    "\n",
    "# OR if ACTION_NAME & INPUT_ARGS are defined elsewhere\n",
    "\n",
    "# upnp.request_action(CTRL_URL, SERVICE_TYPE, ACTION_NAME, INPUT_ARGS)"
   ]
  },
  {
   "cell_type": "code",
   "execution_count": 186,
   "metadata": {},
   "outputs": [
    {
     "name": "stdout",
     "output_type": "stream",
     "text": [
      "<?xml version=\"1.0\" ?>\n",
      "<SOAP-ENV:Envelope SOAP-ENV:encodingStyle=\"http://schemas.xmlsoap.org/soap/encoding/\" xmlns:SOAP-ENV=\"http://schemas.xmlsoap.org/soap/envelope\">\n",
      "\t<SOAP-ENV:Body>\n",
      "\t\t<m:SetMute xmlns:m=\"urn:schemas-upnp-org:service:RenderingControl:1\">\n",
      "\t\t\t<InstanceID>0</InstanceID>\n",
      "\t\t\t<Channel>Master</Channel>\n",
      "\t\t\t<DesiredMute>0</DesiredMute>\n",
      "\t\t</m:SetMute>\n",
      "\t</SOAP-ENV:Body>\n",
      "</SOAP-ENV:Envelope>\n",
      "\n"
     ]
    }
   ],
   "source": [
    "upnp.print_xml(upnp.SOAP.soap_body)"
   ]
  },
  {
   "cell_type": "code",
   "execution_count": 187,
   "metadata": {},
   "outputs": [
    {
     "name": "stdout",
     "output_type": "stream",
     "text": [
      "<?xml version=\"1.0\" ?>\n",
      "<s:Envelope s:encodingStyle=\"http://schemas.xmlsoap.org/soap/encoding/\" xmlns:s=\"http://schemas.xmlsoap.org/soap/envelope/\">\n",
      "\t<s:Body>\n",
      "\t\t<u:SetMuteResponse xmlns:u=\"urn:schemas-upnp-org:service:RenderingControl:1\"/>\n",
      "\t</s:Body>\n",
      "</s:Envelope>\n",
      "\n"
     ]
    }
   ],
   "source": [
    "upnp.print_xml(upnp.SOAP.response)"
   ]
  },
  {
   "cell_type": "code",
   "execution_count": null,
   "metadata": {},
   "outputs": [],
   "source": []
  }
 ],
 "metadata": {
  "kernelspec": {
   "display_name": "Python 3",
   "language": "python",
   "name": "python3"
  },
  "language_info": {
   "codemirror_mode": {
    "name": "ipython",
    "version": 3
   },
   "file_extension": ".py",
   "mimetype": "text/x-python",
   "name": "python",
   "nbconvert_exporter": "python",
   "pygments_lexer": "ipython3",
   "version": "3.7.3"
  }
 },
 "nbformat": 4,
 "nbformat_minor": 2
}
